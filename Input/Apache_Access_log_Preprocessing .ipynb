{
 "cells": [
  {
   "cell_type": "code",
   "execution_count": 20,
   "metadata": {},
   "outputs": [
    {
     "name": "stdout",
     "output_type": "stream",
     "text": [
      "91\n"
     ]
    }
   ],
   "source": [
    "import re\n",
    "with open('access_log.txt') as f:\n",
    "    content = f.readlines()\n",
    "#ipadd=[]\n",
    "#urlreq=[]\n",
    "modified=[]\n",
    "content = [x.strip() for x in content] \n",
    "\n",
    "for i in range (0,len(content)):\n",
    "    MyString1 =  str(content[i])\n",
    "    MyString2 =\"www.google.com\"\n",
    "    if re.search( MyString2, MyString1 ): \n",
    "        modified.append(content[i])\n",
    "        #print(content[i])\n",
    "print(len(modified))"
   ]
  },
  {
   "cell_type": "code",
   "execution_count": 21,
   "metadata": {},
   "outputs": [
    {
     "data": {
      "text/plain": [
       "['66.249.66.19 - - [12/Dec/2015:19:23:59 +0100] \"GET /index.php?option=com_content&view=article&id=46&Itemid=54 HTTP/1.1\" 200 8932 \"-\" \"Mozilla/5.0 (compatible; Googlebot/2.1; +http://www.google.com/bot.html)\" \"-\"',\n",
       " '66.249.66.5 - - [12/Dec/2015:20:37:57 +0100] \"GET / HTTP/1.1\" 200 10439 \"-\" \"Mozilla/5.0 (compatible; Googlebot/2.1; +http://www.google.com/bot.html)\" \"-\"',\n",
       " '66.249.66.16 - - [12/Dec/2015:21:02:37 +0100] \"GET / HTTP/1.1\" 200 10479 \"-\" \"Mozilla/5.0 (compatible; Googlebot/2.1; +http://www.google.com/bot.html)\" \"-\"',\n",
       " '66.249.66.16 - - [12/Dec/2015:21:48:18 +0100] \"GET /index.php?option=com_content&view=article&id=46&Itemid=54 HTTP/1.1\" 200 8938 \"-\" \"Mozilla/5.0 (compatible; Googlebot/2.1; +http://www.google.com/bot.html)\" \"-\"',\n",
       " '66.249.66.5 - - [12/Dec/2015:23:24:28 +0100] \"GET / HTTP/1.1\" 200 10439 \"-\" \"Mozilla/5.0 (compatible; Googlebot/2.1; +http://www.google.com/bot.html)\" \"-\"',\n",
       " '66.249.66.19 - - [13/Dec/2015:00:40:24 +0100] \"GET / HTTP/1.1\" 200 10479 \"-\" \"Mozilla/5.0 (compatible; Googlebot/2.1; +http://www.google.com/bot.html)\" \"-\"',\n",
       " '66.249.66.16 - - [13/Dec/2015:03:04:46 +0100] \"GET / HTTP/1.1\" 200 10479 \"-\" \"Mozilla/5.0 (compatible; Googlebot/2.1; +http://www.google.com/bot.html)\" \"-\"',\n",
       " '66.249.66.19 - - [13/Dec/2015:06:35:51 +0100] \"GET / HTTP/1.1\" 200 10479 \"-\" \"Mozilla/5.0 (compatible; Googlebot/2.1; +http://www.google.com/bot.html)\" \"-\"',\n",
       " '66.249.66.22 - - [13/Dec/2015:08:17:54 +0100] \"GET / HTTP/1.1\" 200 10479 \"-\" \"Mozilla/5.0 (compatible; Googlebot/2.1; +http://www.google.com/bot.html)\" \"-\"',\n",
       " '66.249.66.19 - - [13/Dec/2015:11:02:42 +0100] \"GET / HTTP/1.1\" 200 10479 \"-\" \"Mozilla/5.0 (compatible; Googlebot/2.1; +http://www.google.com/bot.html)\" \"-\"',\n",
       " '66.249.66.19 - - [13/Dec/2015:12:33:58 +0100] \"GET / HTTP/1.1\" 200 10479 \"-\" \"Mozilla/5.0 (compatible; Googlebot/2.1; +http://www.google.com/bot.html)\" \"-\"',\n",
       " '66.249.69.104 - - [13/Dec/2015:15:43:28 +0100] \"GET /index.php?option=com_content&view=article&id=46&Itemid=54 HTTP/1.1\" 200 8938 \"-\" \"Mozilla/5.0 (compatible; Googlebot/2.1; +http://www.google.com/bot.html)\" \"-\"',\n",
       " '66.249.69.120 - - [13/Dec/2015:15:46:38 +0100] \"GET / HTTP/1.1\" 200 10479 \"-\" \"Mozilla/5.0 (compatible; Googlebot/2.1; +http://www.google.com/bot.html)\" \"-\"',\n",
       " '66.249.69.104 - - [13/Dec/2015:18:49:28 +0100] \"GET /robots.txt HTTP/1.1\" 200 304 \"-\" \"Mozilla/5.0 (compatible; Googlebot/2.1; +http://www.google.com/bot.html)\" \"-\"',\n",
       " '66.249.69.120 - - [13/Dec/2015:18:49:28 +0100] \"GET / HTTP/1.1\" 200 10479 \"-\" \"Mozilla/5.0 (compatible; Googlebot/2.1; +http://www.google.com/bot.html)\" \"-\"',\n",
       " '66.249.65.28 - - [13/Dec/2015:22:15:32 +0100] \"GET / HTTP/1.1\" 200 10479 \"-\" \"Mozilla/5.0 (compatible; Googlebot/2.1; +http://www.google.com/bot.html)\" \"-\"',\n",
       " '66.249.65.20 - - [14/Dec/2015:01:36:46 +0100] \"GET / HTTP/1.1\" 200 10479 \"-\" \"Mozilla/5.0 (compatible; Googlebot/2.1; +http://www.google.com/bot.html)\" \"-\"',\n",
       " '66.249.65.24 - - [14/Dec/2015:02:53:36 +0100] \"GET /apache-log/access.log HTTP/1.1\" 200 361293 \"-\" \"Mozilla/5.0 (compatible; Googlebot/2.1; +http://www.google.com/bot.html)\" \"-\"',\n",
       " '66.249.73.142 - - [14/Dec/2015:02:58:34 +0100] \"GET /robots.txt HTTP/1.1\" 200 304 \"-\" \"Mozilla/5.0 (compatible; Googlebot/2.1; +http://www.google.com/bot.html)\" \"-\"',\n",
       " '66.249.73.142 - - [14/Dec/2015:02:58:35 +0100] \"GET / HTTP/1.1\" 200 10439 \"-\" \"Mozilla/5.0 (compatible; Googlebot/2.1; +http://www.google.com/bot.html)\" \"-\"',\n",
       " '66.249.73.151 - - [14/Dec/2015:05:53:32 +0100] \"GET / HTTP/1.1\" 200 10439 \"-\" \"Mozilla/5.0 (compatible; Googlebot/2.1; +http://www.google.com/bot.html)\" \"-\"',\n",
       " '66.249.73.151 - - [14/Dec/2015:06:50:30 +0100] \"GET /robots.txt HTTP/1.1\" 200 304 \"-\" \"Mozilla/5.0 (compatible; Googlebot/2.1; +http://www.google.com/bot.html)\" \"-\"',\n",
       " '66.249.65.20 - - [14/Dec/2015:07:37:08 +0100] \"GET / HTTP/1.1\" 200 10479 \"-\" \"Mozilla/5.0 (compatible; Googlebot/2.1; +http://www.google.com/bot.html)\" \"-\"',\n",
       " '66.249.73.160 - - [14/Dec/2015:07:50:05 +0100] \"GET / HTTP/1.1\" 200 10439 \"-\" \"Mozilla/5.0 (compatible; Googlebot/2.1; +http://www.google.com/bot.html)\" \"-\"',\n",
       " '66.249.65.28 - - [14/Dec/2015:09:51:49 +0100] \"GET / HTTP/1.1\" 200 10479 \"-\" \"Mozilla/5.0 (compatible; Googlebot/2.1; +http://www.google.com/bot.html)\" \"-\"',\n",
       " '66.249.65.28 - - [14/Dec/2015:10:44:00 +0100] \"GET / HTTP/1.1\" 200 10479 \"-\" \"Mozilla/5.0 (iPhone; CPU iPhone OS 8_3 like Mac OS X) AppleWebKit/600.1.4 (KHTML, like Gecko) Version/8.0 Mobile/12F70 Safari/600.1.4 (compatible; Googlebot/2.1; +http://www.google.com/bot.html)\" \"-\"',\n",
       " '66.249.73.142 - - [14/Dec/2015:12:10:14 +0100] \"GET / HTTP/1.1\" 200 10439 \"-\" \"Mozilla/5.0 (iPhone; CPU iPhone OS 8_3 like Mac OS X) AppleWebKit/600.1.4 (KHTML, like Gecko) Version/8.0 Mobile/12F70 Safari/600.1.4 (compatible; Googlebot/2.1; +http://www.google.com/bot.html)\" \"-\"',\n",
       " '66.249.73.142 - - [14/Dec/2015:12:29:47 +0100] \"GET / HTTP/1.1\" 200 10439 \"-\" \"Mozilla/5.0 (compatible; Googlebot/2.1; +http://www.google.com/bot.html)\" \"-\"',\n",
       " '66.249.73.151 - - [14/Dec/2015:12:37:03 +0100] \"GET /index.php?format=feed&type=atom HTTP/1.1\" 200 8138 \"-\" \"Mozilla/5.0 (compatible; Googlebot/2.1; +http://www.google.com/bot.html)\" \"-\"',\n",
       " '66.249.73.151 - - [14/Dec/2015:12:39:18 +0100] \"GET /index.php?option=com_content&view=article&id=47:almhuette-raith&catid=34:raith HTTP/1.1\" 200 8368 \"-\" \"Mozilla/5.0 (compatible; Googlebot/2.1; +http://www.google.com/bot.html)\" \"-\"',\n",
       " '66.249.73.142 - - [14/Dec/2015:15:37:02 +0100] \"GET / HTTP/1.1\" 200 10439 \"-\" \"Mozilla/5.0 (compatible; Googlebot/2.1; +http://www.google.com/bot.html)\" \"-\"',\n",
       " '66.249.65.28 - - [14/Dec/2015:16:21:22 +0100] \"GET / HTTP/1.1\" 200 10479 \"-\" \"Mozilla/5.0 (compatible; Googlebot/2.1; +http://www.google.com/bot.html)\" \"-\"',\n",
       " '66.249.73.151 - - [14/Dec/2015:17:44:51 +0100] \"GET / HTTP/1.1\" 200 10439 \"-\" \"Mozilla/5.0 (compatible; Googlebot/2.1; +http://www.google.com/bot.html)\" \"-\"',\n",
       " '66.249.69.104 - - [14/Dec/2015:22:27:03 +0100] \"GET /robots.txt HTTP/1.1\" 200 304 \"-\" \"Mozilla/5.0 (compatible; Googlebot/2.1; +http://www.google.com/bot.html)\" \"-\"',\n",
       " '66.249.69.120 - - [14/Dec/2015:22:27:03 +0100] \"GET / HTTP/1.1\" 200 10479 \"-\" \"Mozilla/5.0 (compatible; Googlebot/2.1; +http://www.google.com/bot.html)\" \"-\"',\n",
       " '66.249.75.142 - - [14/Dec/2015:22:32:16 +0100] \"GET / HTTP/1.1\" 200 10439 \"-\" \"Mozilla/5.0 (compatible; Googlebot/2.1; +http://www.google.com/bot.html)\" \"-\"',\n",
       " '66.249.69.104 - - [15/Dec/2015:00:10:52 +0100] \"GET /index.php?option=com_content&view=article&id=46&Itemid=54 HTTP/1.1\" 200 8932 \"-\" \"Mozilla/5.0 (compatible; Googlebot/2.1; +http://www.google.com/bot.html)\" \"-\"',\n",
       " '66.249.69.112 - - [15/Dec/2015:02:35:41 +0100] \"GET / HTTP/1.1\" 500 88 \"-\" \"Mozilla/5.0 (compatible; Googlebot/2.1; +http://www.google.com/bot.html)\" \"-\"',\n",
       " '66.249.75.160 - - [15/Dec/2015:02:38:18 +0100] \"GET / HTTP/1.1\" 200 10439 \"-\" \"Mozilla/5.0 (compatible; Googlebot/2.1; +http://www.google.com/bot.html)\" \"-\"',\n",
       " '66.249.75.160 - - [15/Dec/2015:05:56:49 +0100] \"GET /robots.txt HTTP/1.1\" 200 304 \"-\" \"Mozilla/5.0 (compatible; Googlebot/2.1; +http://www.google.com/bot.html)\" \"-\"',\n",
       " '66.249.75.160 - - [15/Dec/2015:05:56:49 +0100] \"GET / HTTP/1.1\" 200 10439 \"-\" \"Mozilla/5.0 (compatible; Googlebot/2.1; +http://www.google.com/bot.html)\" \"-\"',\n",
       " '66.249.69.120 - - [15/Dec/2015:07:52:35 +0100] \"GET /index.php?option=com_content&view=article&id=46&Itemid=54 HTTP/1.1\" 200 8938 \"-\" \"DoCoMo/2.0 N905i(c100;TB;W24H16) (compatible; Googlebot-Mobile/2.1; +http://www.google.com/bot.html)\" \"-\"',\n",
       " '66.249.75.142 - - [15/Dec/2015:09:45:44 +0100] \"GET / HTTP/1.1\" 200 10439 \"-\" \"Mozilla/5.0 (compatible; Googlebot/2.1; +http://www.google.com/bot.html)\" \"-\"',\n",
       " '66.249.69.112 - - [15/Dec/2015:12:34:51 +0100] \"GET /index.php?option=com_content&view=article&id=46&Itemid=54 HTTP/1.1\" 200 8938 \"-\" \"Mozilla/5.0 (compatible; Googlebot/2.1; +http://www.google.com/bot.html)\" \"-\"',\n",
       " '66.249.75.142 - - [15/Dec/2015:13:57:00 +0100] \"GET / HTTP/1.1\" 200 10439 \"-\" \"Mozilla/5.0 (compatible; Googlebot/2.1; +http://www.google.com/bot.html)\" \"-\"',\n",
       " '66.249.73.142 - - [15/Dec/2015:16:48:33 +0100] \"GET / HTTP/1.1\" 200 10439 \"-\" \"Mozilla/5.0 (compatible; Googlebot/2.1; +http://www.google.com/bot.html)\" \"-\"',\n",
       " '66.249.75.142 - - [15/Dec/2015:20:50:40 +0100] \"GET / HTTP/1.1\" 200 10439 \"-\" \"Mozilla/5.0 (compatible; Googlebot/2.1; +http://www.google.com/bot.html)\" \"-\"',\n",
       " '66.249.75.142 - - [16/Dec/2015:00:39:40 +0100] \"GET / HTTP/1.1\" 200 10439 \"-\" \"Mozilla/5.0 (compatible; Googlebot/2.1; +http://www.google.com/bot.html)\" \"-\"',\n",
       " '66.249.69.120 - - [16/Dec/2015:05:39:56 +0100] \"GET /robots.txt HTTP/1.1\" 200 304 \"-\" \"Mozilla/5.0 (compatible; Googlebot/2.1; +http://www.google.com/bot.html)\" \"-\"',\n",
       " '66.249.69.120 - - [16/Dec/2015:05:39:57 +0100] \"GET / HTTP/1.1\" 200 10479 \"-\" \"SAMSUNG-SGH-E250/1.0 Profile/MIDP-2.0 Configuration/CLDC-1.1 UP.Browser/6.2.3.3.c.1.101 (GUI) MMP/2.0 (compatible; Googlebot-Mobile/2.1; +http://www.google.com/bot.html)\" \"-\"',\n",
       " '66.249.69.120 - - [16/Dec/2015:05:48:36 +0100] \"GET /apache-log/access.log HTTP/1.1\" 200 764349 \"-\" \"Mozilla/5.0 (compatible; Googlebot/2.1; +http://www.google.com/bot.html)\" \"-\"',\n",
       " '66.249.69.104 - - [16/Dec/2015:08:57:50 +0100] \"GET /index.php?option=com_content&view=article&id=47:almhuette-raith&catid=34:raith HTTP/1.1\" 200 8408 \"-\" \"Mozilla/5.0 (iPhone; CPU iPhone OS 8_3 like Mac OS X) AppleWebKit/600.1.4 (KHTML, like Gecko) Version/8.0 Mobile/12F70 Safari/600.1.4 (compatible; Googlebot/2.1; +http://www.google.com/bot.html)\" \"-\"',\n",
       " '66.249.69.112 - - [16/Dec/2015:09:14:21 +0100] \"GET /index.php?option=com_content&view=article&id=50&Itemid=56 HTTP/1.1\" 200 7991 \"-\" \"Mozilla/5.0 (iPhone; CPU iPhone OS 8_3 like Mac OS X) AppleWebKit/600.1.4 (KHTML, like Gecko) Version/8.0 Mobile/12F70 Safari/600.1.4 (compatible; Googlebot/2.1; +http://www.google.com/bot.html)\" \"-\"',\n",
       " '66.249.69.104 - - [16/Dec/2015:11:49:31 +0100] \"GET / HTTP/1.1\" 200 10479 \"-\" \"Mozilla/5.0 (compatible; Googlebot/2.1; +http://www.google.com/bot.html)\" \"-\"',\n",
       " '66.249.69.120 - - [16/Dec/2015:16:08:50 +0100] \"GET /index.old1 HTTP/1.1\" 200 4403 \"-\" \"Mozilla/5.0 (iPhone; CPU iPhone OS 8_3 like Mac OS X) AppleWebKit/600.1.4 (KHTML, like Gecko) Version/8.0 Mobile/12F70 Safari/600.1.4 (compatible; Googlebot/2.1; +http://www.google.com/bot.html)\" \"-\"',\n",
       " '94.190.190.18 - - [16/Dec/2015:17:32:15 +0100] \"GET /media/jui/js/cms.js HTTP/1.1\" 404 225 \"http://www.google.com/\" \"Mozilla/5.0 (Windows NT 6.1; Trident/7.0; rv:11.0) like Gecko\" \"-\"',\n",
       " '66.249.65.28 - - [16/Dec/2015:17:44:56 +0100] \"GET / HTTP/1.1\" 200 10479 \"-\" \"Mozilla/5.0 (compatible; Googlebot/2.1; +http://www.google.com/bot.html)\" \"-\"',\n",
       " '94.190.190.18 - - [16/Dec/2015:19:07:53 +0100] \"GET /media/jui/js/cms.js HTTP/1.1\" 404 225 \"http://www.google.com/\" \"Mozilla/5.0 (Windows NT 6.1; Trident/7.0; rv:11.0) like Gecko\" \"-\"',\n",
       " '66.249.75.142 - - [16/Dec/2015:19:23:12 +0100] \"GET /robots.txt HTTP/1.1\" 200 304 \"-\" \"Mozilla/5.0 (compatible; Googlebot/2.1; +http://www.google.com/bot.html)\" \"-\"',\n",
       " '66.249.75.142 - - [16/Dec/2015:19:23:13 +0100] \"GET / HTTP/1.1\" 200 10439 \"-\" \"Mozilla/5.0 (iPhone; CPU iPhone OS 8_3 like Mac OS X) AppleWebKit/600.1.4 (KHTML, like Gecko) Version/8.0 Mobile/12F70 Safari/600.1.4 (compatible; Googlebot/2.1; +http://www.google.com/bot.html)\" \"-\"',\n",
       " '94.190.190.18 - - [16/Dec/2015:19:38:45 +0100] \"GET /media/jui/js/cms.js HTTP/1.1\" 404 225 \"http://www.google.com/\" \"Mozilla/5.0 (Windows NT 6.1; Trident/7.0; rv:11.0) like Gecko\" \"-\"',\n",
       " '66.249.69.112 - - [17/Dec/2015:00:50:45 +0100] \"GET / HTTP/1.1\" 200 10479 \"-\" \"Mozilla/5.0 (iPhone; CPU iPhone OS 8_3 like Mac OS X) AppleWebKit/600.1.4 (KHTML, like Gecko) Version/8.0 Mobile/12F70 Safari/600.1.4 (compatible; Googlebot/2.1; +http://www.google.com/bot.html)\" \"-\"',\n",
       " '66.249.75.142 - - [17/Dec/2015:05:05:24 +0100] \"GET / HTTP/1.1\" 200 10439 \"-\" \"Mozilla/5.0 (compatible; Googlebot/2.1; +http://www.google.com/bot.html)\" \"-\"',\n",
       " '66.249.69.104 - - [17/Dec/2015:05:31:11 +0100] \"GET / HTTP/1.1\" 200 10479 \"-\" \"DoCoMo/2.0 N905i(c100;TB;W24H16) (compatible; Googlebot-Mobile/2.1; +http://www.google.com/bot.html)\" \"-\"',\n",
       " '66.249.66.15 - - [17/Dec/2015:23:37:39 +0100] \"GET /robots.txt HTTP/1.1\" 200 304 \"-\" \"Mozilla/5.0 (compatible; Googlebot/2.1; +http://www.google.com/bot.html)\" \"-\"',\n",
       " '66.249.66.5 - - [17/Dec/2015:23:37:39 +0100] \"GET / HTTP/1.1\" 200 10439 \"-\" \"Mozilla/5.0 (iPhone; CPU iPhone OS 8_3 like Mac OS X) AppleWebKit/600.1.4 (KHTML, like Gecko) Version/8.0 Mobile/12F70 Safari/600.1.4 (compatible; Googlebot/2.1; +http://www.google.com/bot.html)\" \"-\"',\n",
       " '66.249.66.22 - - [18/Dec/2015:00:37:00 +0100] \"GET /robots.txt HTTP/1.1\" 200 304 \"-\" \"Mozilla/5.0 (compatible; Googlebot/2.1; +http://www.google.com/bot.html)\" \"-\"',\n",
       " '66.249.66.19 - - [18/Dec/2015:00:37:00 +0100] \"GET / HTTP/1.1\" 200 10479 \"-\" \"Mozilla/5.0 (iPhone; CPU iPhone OS 8_3 like Mac OS X) AppleWebKit/600.1.4 (KHTML, like Gecko) Version/8.0 Mobile/12F70 Safari/600.1.4 (compatible; Googlebot/2.1; +http://www.google.com/bot.html)\" \"-\"',\n",
       " '66.249.66.22 - - [18/Dec/2015:00:46:25 +0100] \"GET / HTTP/1.1\" 200 10479 \"-\" \"Mozilla/5.0 (compatible; Googlebot/2.1; +http://www.google.com/bot.html)\" \"-\"',\n",
       " '66.249.66.15 - - [18/Dec/2015:01:06:10 +0100] \"GET / HTTP/1.1\" 200 10439 \"-\" \"Mozilla/5.0 (compatible; Googlebot/2.1; +http://www.google.com/bot.html)\" \"-\"',\n",
       " '66.249.66.19 - - [18/Dec/2015:14:25:24 +0100] \"GET /apache-log/ HTTP/1.1\" 200 1088 \"-\" \"Mozilla/5.0 (compatible; Googlebot/2.1; +http://www.google.com/bot.html)\" \"-\"',\n",
       " '66.249.69.120 - - [19/Dec/2015:10:25:06 +0100] \"GET /robots.txt HTTP/1.1\" 200 304 \"-\" \"Mozilla/5.0 (compatible; Googlebot/2.1; +http://www.google.com/bot.html)\" \"-\"',\n",
       " '66.249.69.104 - - [19/Dec/2015:10:25:08 +0100] \"GET /apache-log/access.log HTTP/1.1\" 200 1684422 \"-\" \"SAMSUNG-SGH-E250/1.0 Profile/MIDP-2.0 Configuration/CLDC-1.1 UP.Browser/6.2.3.3.c.1.101 (GUI) MMP/2.0 (compatible; Googlebot-Mobile/2.1; +http://www.google.com/bot.html)\" \"-\"',\n",
       " '66.249.75.160 - - [19/Dec/2015:13:08:23 +0100] \"GET /robots.txt HTTP/1.1\" 200 304 \"-\" \"Mozilla/5.0 (compatible; Googlebot/2.1; +http://www.google.com/bot.html)\" \"-\"',\n",
       " '66.249.75.160 - - [19/Dec/2015:13:08:24 +0100] \"GET / HTTP/1.1\" 200 10439 \"-\" \"Mozilla/5.0 (compatible; Googlebot/2.1; +http://www.google.com/bot.html)\" \"-\"',\n",
       " '66.249.66.9 - - [19/Dec/2015:16:37:03 +0100] \"GET / HTTP/1.1\" 200 10439 \"-\" \"Mozilla/5.0 (compatible; Googlebot/2.1; +http://www.google.com/bot.html)\" \"-\"',\n",
       " '66.249.66.9 - - [19/Dec/2015:19:47:22 +0100] \"GET / HTTP/1.1\" 200 10439 \"-\" \"Mozilla/5.0 (compatible; Googlebot/2.1; +http://www.google.com/bot.html)\" \"-\"',\n",
       " '39.57.56.153 - - [19/Dec/2015:21:06:38 +0100] \"GET /apache-log/access.log HTTP/1.1\" 200 1724888 \"https://www.google.com\" \"Mozilla/5.0 (X11; Ubuntu; Linux x86_64; rv:43.0) Gecko/20100101 Firefox/43.0\" \"-\"',\n",
       " '66.249.66.15 - - [19/Dec/2015:21:55:34 +0100] \"GET / HTTP/1.1\" 200 10439 \"-\" \"Mozilla/5.0 (compatible; Googlebot/2.1; +http://www.google.com/bot.html)\" \"-\"',\n",
       " '66.249.66.19 - - [19/Dec/2015:22:47:45 +0100] \"GET / HTTP/1.1\" 200 10479 \"-\" \"Mozilla/5.0 (iPhone; CPU iPhone OS 8_3 like Mac OS X) AppleWebKit/600.1.4 (KHTML, like Gecko) Version/8.0 Mobile/12F70 Safari/600.1.4 (compatible; Googlebot/2.1; +http://www.google.com/bot.html)\" \"-\"',\n",
       " '66.249.66.15 - - [19/Dec/2015:23:08:41 +0100] \"GET / HTTP/1.1\" 200 10439 \"-\" \"Mozilla/5.0 (iPhone; CPU iPhone OS 8_3 like Mac OS X) AppleWebKit/600.1.4 (KHTML, like Gecko) Version/8.0 Mobile/12F70 Safari/600.1.4 (compatible; Googlebot/2.1; +http://www.google.com/bot.html)\" \"-\"',\n",
       " '66.249.66.9 - - [20/Dec/2015:03:24:49 +0100] \"GET / HTTP/1.1\" 200 10439 \"-\" \"Mozilla/5.0 (compatible; Googlebot/2.1; +http://www.google.com/bot.html)\" \"-\"',\n",
       " '66.249.66.5 - - [20/Dec/2015:05:43:39 +0100] \"GET / HTTP/1.1\" 200 10439 \"-\" \"Mozilla/5.0 (compatible; Googlebot/2.1; +http://www.google.com/bot.html)\" \"-\"',\n",
       " '66.249.66.19 - - [20/Dec/2015:11:16:42 +0100] \"GET /robots.txt HTTP/1.1\" 200 304 \"-\" \"Mozilla/5.0 (compatible; Googlebot/2.1; +http://www.google.com/bot.html)\" \"-\"',\n",
       " '66.249.66.16 - - [20/Dec/2015:11:16:43 +0100] \"GET / HTTP/1.1\" 200 10479 \"-\" \"Mozilla/5.0 (compatible; Googlebot/2.1; +http://www.google.com/bot.html)\" \"-\"',\n",
       " '66.249.66.9 - - [20/Dec/2015:11:45:42 +0100] \"GET / HTTP/1.1\" 200 10439 \"-\" \"Mozilla/5.0 (compatible; Googlebot/2.1; +http://www.google.com/bot.html)\" \"-\"',\n",
       " '66.249.66.22 - - [20/Dec/2015:14:25:09 +0100] \"GET /index.php?option=com_content&view=article&id=46&Itemid=54 HTTP/1.1\" 200 8938 \"-\" \"Mozilla/5.0 (compatible; Googlebot/2.1; +http://www.google.com/bot.html)\" \"-\"',\n",
       " '66.249.66.15 - - [20/Dec/2015:14:51:44 +0100] \"GET /robots.txt HTTP/1.1\" 200 304 \"-\" \"Mozilla/5.0 (compatible; Googlebot/2.1; +http://www.google.com/bot.html)\" \"-\"',\n",
       " '66.249.66.9 - - [20/Dec/2015:14:51:44 +0100] \"GET / HTTP/1.1\" 200 10439 \"-\" \"Mozilla/5.0 (compatible; Googlebot/2.1; +http://www.google.com/bot.html)\" \"-\"',\n",
       " '66.249.69.112 - - [20/Dec/2015:16:35:35 +0100] \"GET / HTTP/1.1\" 200 10479 \"-\" \"Mozilla/5.0 (compatible; Googlebot/2.1; +http://www.google.com/bot.html)\" \"-\"',\n",
       " '66.249.75.142 - - [20/Dec/2015:17:33:37 +0100] \"GET / HTTP/1.1\" 200 10439 \"-\" \"Mozilla/5.0 (compatible; Googlebot/2.1; +http://www.google.com/bot.html)\" \"-\"']"
      ]
     },
     "execution_count": 21,
     "metadata": {},
     "output_type": "execute_result"
    }
   ],
   "source": [
    "modified"
   ]
  },
  {
   "cell_type": "code",
   "execution_count": 24,
   "metadata": {},
   "outputs": [],
   "source": [
    "#modified[60]"
   ]
  },
  {
   "cell_type": "code",
   "execution_count": 25,
   "metadata": {},
   "outputs": [],
   "source": [
    "userIP=[]\n",
    "for i in range (0,len(modified)):\n",
    "    userIP.append(modified[i].split()[0])"
   ]
  },
  {
   "cell_type": "code",
   "execution_count": 26,
   "metadata": {},
   "outputs": [
    {
     "data": {
      "text/plain": [
       "91"
      ]
     },
     "execution_count": 26,
     "metadata": {},
     "output_type": "execute_result"
    }
   ],
   "source": [
    "len(userIP)"
   ]
  },
  {
   "cell_type": "code",
   "execution_count": 27,
   "metadata": {},
   "outputs": [
    {
     "data": {
      "text/plain": [
       "['66.249.66.19',\n",
       " '66.249.66.5',\n",
       " '66.249.66.16',\n",
       " '66.249.66.16',\n",
       " '66.249.66.5',\n",
       " '66.249.66.19',\n",
       " '66.249.66.16',\n",
       " '66.249.66.19',\n",
       " '66.249.66.22',\n",
       " '66.249.66.19',\n",
       " '66.249.66.19',\n",
       " '66.249.69.104',\n",
       " '66.249.69.120',\n",
       " '66.249.69.104',\n",
       " '66.249.69.120',\n",
       " '66.249.65.28',\n",
       " '66.249.65.20',\n",
       " '66.249.65.24',\n",
       " '66.249.73.142',\n",
       " '66.249.73.142',\n",
       " '66.249.73.151',\n",
       " '66.249.73.151',\n",
       " '66.249.65.20',\n",
       " '66.249.73.160',\n",
       " '66.249.65.28',\n",
       " '66.249.65.28',\n",
       " '66.249.73.142',\n",
       " '66.249.73.142',\n",
       " '66.249.73.151',\n",
       " '66.249.73.151',\n",
       " '66.249.73.142',\n",
       " '66.249.65.28',\n",
       " '66.249.73.151',\n",
       " '66.249.69.104',\n",
       " '66.249.69.120',\n",
       " '66.249.75.142',\n",
       " '66.249.69.104',\n",
       " '66.249.69.112',\n",
       " '66.249.75.160',\n",
       " '66.249.75.160',\n",
       " '66.249.75.160',\n",
       " '66.249.69.120',\n",
       " '66.249.75.142',\n",
       " '66.249.69.112',\n",
       " '66.249.75.142',\n",
       " '66.249.73.142',\n",
       " '66.249.75.142',\n",
       " '66.249.75.142',\n",
       " '66.249.69.120',\n",
       " '66.249.69.120',\n",
       " '66.249.69.120',\n",
       " '66.249.69.104',\n",
       " '66.249.69.112',\n",
       " '66.249.69.104',\n",
       " '66.249.69.120',\n",
       " '94.190.190.18',\n",
       " '66.249.65.28',\n",
       " '94.190.190.18',\n",
       " '66.249.75.142',\n",
       " '66.249.75.142',\n",
       " '94.190.190.18',\n",
       " '66.249.69.112',\n",
       " '66.249.75.142',\n",
       " '66.249.69.104',\n",
       " '66.249.66.15',\n",
       " '66.249.66.5',\n",
       " '66.249.66.22',\n",
       " '66.249.66.19',\n",
       " '66.249.66.22',\n",
       " '66.249.66.15',\n",
       " '66.249.66.19',\n",
       " '66.249.69.120',\n",
       " '66.249.69.104',\n",
       " '66.249.75.160',\n",
       " '66.249.75.160',\n",
       " '66.249.66.9',\n",
       " '66.249.66.9',\n",
       " '39.57.56.153',\n",
       " '66.249.66.15',\n",
       " '66.249.66.19',\n",
       " '66.249.66.15',\n",
       " '66.249.66.9',\n",
       " '66.249.66.5',\n",
       " '66.249.66.19',\n",
       " '66.249.66.16',\n",
       " '66.249.66.9',\n",
       " '66.249.66.22',\n",
       " '66.249.66.15',\n",
       " '66.249.66.9',\n",
       " '66.249.69.112',\n",
       " '66.249.75.142']"
      ]
     },
     "execution_count": 27,
     "metadata": {},
     "output_type": "execute_result"
    }
   ],
   "source": [
    "userIP"
   ]
  },
  {
   "cell_type": "code",
   "execution_count": 28,
   "metadata": {},
   "outputs": [
    {
     "name": "stdout",
     "output_type": "stream",
     "text": [
      "66.249.66.19 66.249.66.5 66.249.66.16 66.249.66.16 66.249.66.5 66.249.66.19 66.249.66.16 66.249.66.19 66.249.66.22 66.249.66.19 66.249.66.19 66.249.69.104 66.249.69.120 66.249.69.104 66.249.69.120 66.249.65.28 66.249.65.20 66.249.65.24 66.249.73.142 66.249.73.142 66.249.73.151 66.249.73.151 66.249.65.20 66.249.73.160 66.249.65.28 66.249.65.28 66.249.73.142 66.249.73.142 66.249.73.151 66.249.73.151 66.249.73.142 66.249.65.28 66.249.73.151 66.249.69.104 66.249.69.120 66.249.75.142 66.249.69.104 66.249.69.112 66.249.75.160 66.249.75.160 66.249.75.160 66.249.69.120 66.249.75.142 66.249.69.112 66.249.75.142 66.249.73.142 66.249.75.142 66.249.75.142 66.249.69.120 66.249.69.120 66.249.69.120 66.249.69.104 66.249.69.112 66.249.69.104 66.249.69.120 94.190.190.18 66.249.65.28 94.190.190.18 66.249.75.142 66.249.75.142 94.190.190.18 66.249.69.112 66.249.75.142 66.249.69.104 66.249.66.15 66.249.66.5 66.249.66.22 66.249.66.19 66.249.66.22 66.249.66.15 66.249.66.19 66.249.69.120 66.249.69.104 66.249.75.160 66.249.75.160 66.249.66.9 66.249.66.9 39.57.56.153 66.249.66.15 66.249.66.19 66.249.66.15 66.249.66.9 66.249.66.5 66.249.66.19 66.249.66.16 66.249.66.9 66.249.66.22 66.249.66.15 66.249.66.9 66.249.69.112 66.249.75.142\n"
     ]
    }
   ],
   "source": [
    "# Python program to convert a list \n",
    "# to string using list comprehension \n",
    "   \n",
    "s = userIP \n",
    "  \n",
    "# using list comprehension \n",
    "listToStr = ' '.join(map(str, s)) \n",
    "  \n",
    "print(listToStr)  "
   ]
  },
  {
   "cell_type": "code",
   "execution_count": 29,
   "metadata": {},
   "outputs": [],
   "source": [
    "text_file = open(\"Ipcountinput.txt\", \"w\")\n",
    "n = text_file.write(listToStr)\n",
    "text_file.close()"
   ]
  },
  {
   "cell_type": "code",
   "execution_count": null,
   "metadata": {},
   "outputs": [],
   "source": []
  }
 ],
 "metadata": {
  "kernelspec": {
   "display_name": "Python 3",
   "language": "python",
   "name": "python3"
  },
  "language_info": {
   "codemirror_mode": {
    "name": "ipython",
    "version": 3
   },
   "file_extension": ".py",
   "mimetype": "text/x-python",
   "name": "python",
   "nbconvert_exporter": "python",
   "pygments_lexer": "ipython3",
   "version": "3.8.3"
  }
 },
 "nbformat": 4,
 "nbformat_minor": 4
}
